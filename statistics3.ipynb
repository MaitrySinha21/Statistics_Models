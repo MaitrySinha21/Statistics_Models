{
 "cells": [
  {
   "cell_type": "markdown",
   "metadata": {},
   "source": [
    "# Calculate the mean, median, mode and standard deviation for the problem statements 1& 2.\n"
   ]
  },
  {
   "cell_type": "markdown",
   "metadata": {},
   "source": [
    "# Problem Statement 1:\n",
    "\n",
    "The marks awarded for an assignment set for a Year 8 class\n",
    "of 20 students were as follows:\n",
    "\n",
    "6 7 5 7 7 8 7 6 9 7 4 10 6 8 8 9 5 6 4 8\n"
   ]
  },
  {
   "cell_type": "code",
   "execution_count": 1,
   "metadata": {},
   "outputs": [],
   "source": [
    "import statistics as st\n",
    "import numpy as np"
   ]
  },
  {
   "cell_type": "code",
   "execution_count": 2,
   "metadata": {},
   "outputs": [
    {
     "name": "stdout",
     "output_type": "stream",
     "text": [
      "mean     : 6.85\n",
      "median   : 7.0\n",
      "mode     : 7\n",
      "St dev   : 1.6311\n",
      "Variance : 2.6569\n"
     ]
    }
   ],
   "source": [
    "l=[6,7,5,7,7,8,7,6,9,7,4,10,6,8,8,9,5,6,4,8]\n",
    "std=st.stdev(l)\n",
    "print('mean     :',st.mean(l))\n",
    "print('median   :',st.median(l))\n",
    "print('mode     :',st.mode(l))\n",
    "print('St dev   :',round(std,4))\n",
    "print('Variance :',round(std,2)**2)"
   ]
  },
  {
   "cell_type": "code",
   "execution_count": 3,
   "metadata": {},
   "outputs": [],
   "source": [
    "from scipy import stats"
   ]
  },
  {
   "cell_type": "code",
   "execution_count": 4,
   "metadata": {},
   "outputs": [
    {
     "name": "stdout",
     "output_type": "stream",
     "text": [
      "Mean  : 6.85\n",
      "Median: 7.0\n",
      "Mode  : 7\n",
      "STD   : 1.5898\n",
      "Var   : 2.5275\n"
     ]
    }
   ],
   "source": [
    "l=[6,7,5,7,7,8,7,6,9,7,4,10,6,8,8,9,5,6,4,8]\n",
    "\n",
    "mean=np.mean(l)\n",
    "\n",
    "median=np.median(l)\n",
    " \n",
    "mode=stats.mode(l)\n",
    "\n",
    "std=np.std(l)\n",
    "vr=np.var(l)\n",
    "\n",
    "print(\"Mean  :\", mean)\n",
    "print(\"Median:\", median)\n",
    "print(\"Mode  :\", mode[0][0])\n",
    "print(\"STD   :\", round(std,4))\n",
    "print(\"Var   :\", round(vr,4))\n"
   ]
  },
  {
   "cell_type": "code",
   "execution_count": 5,
   "metadata": {},
   "outputs": [],
   "source": [
    "def varn(ls):\n",
    "    arr=np.array(ls)\n",
    "    mean=arr.mean()\n",
    "    vr=0\n",
    "    for i in range(len(arr)):\n",
    "        st=((arr[i]-mean)**2)/len(arr)\n",
    "        vr=vr+st\n",
    "        std=round(np.sqrt(vr),4)\n",
    "        flac=((mean-std),(mean+std))\n",
    "    return vr,mean,std,flac    "
   ]
  },
  {
   "cell_type": "code",
   "execution_count": 6,
   "metadata": {},
   "outputs": [
    {
     "data": {
      "text/plain": [
       "(2.5275, 6.85, 1.5898, (5.260199999999999, 8.4398))"
      ]
     },
     "execution_count": 6,
     "metadata": {},
     "output_type": "execute_result"
    }
   ],
   "source": [
    "var,mean,std,flac=varn(l)\n",
    "var, mean, std, flac"
   ]
  },
  {
   "cell_type": "markdown",
   "metadata": {},
   "source": [
    "# Problem Statement 2:\n",
    "\n",
    "The number of calls from motorists per day for roadside service was recorded for a\n",
    "\n",
    "particular month:\n",
    "\n",
    "28, 122, 217, 130, 120, 86, 80, 90, 140, 120, 70, 40, 145, 113, 90, 68, 174, 194, 170,\n",
    "\n",
    "100, 75, 104, 97, 75,123, 100, 75, 104, 97, 75, 123, 100, 89, 120, 109"
   ]
  },
  {
   "cell_type": "code",
   "execution_count": 7,
   "metadata": {},
   "outputs": [
    {
     "name": "stdout",
     "output_type": "stream",
     "text": [
      "mean   : 107.51428571428572\n",
      "median : 100\n",
      "mode   : 75\n",
      "Standard deviation : 39.33892805484412\n"
     ]
    }
   ],
   "source": [
    "l1=[28, 122, 217, 130, 120, 86, 80, 90, 140, 120, 70, 40, 145, 113, 90, 68, 174, 194, 170,100, 75, 104, 97, 75,\n",
    "    123, 100, 75, 104, 97, 75, 123, 100, 89, 120, 109]\n",
    "print('mean   :',st.mean(l1))\n",
    "print('median :',st.median(l1))\n",
    "print('mode   :',st.mode(l1))\n",
    "print('Standard deviation :',st.stdev(l1))"
   ]
  },
  {
   "cell_type": "markdown",
   "metadata": {},
   "source": [
    "# Problem Statement 3:\n",
    "    \n",
    "The number of times I go to the gym in weekdays, \n",
    "\n",
    "are given below along with its\n",
    "\n",
    "associated probability:\n",
    "    \n",
    "x = 0, 1, 2, 3, 4, 5\n",
    "\n",
    "f(x) = 0.09, 0.15, 0.40, 0.25, 0.10, 0.01\n",
    "\n",
    "Calculate the mean no. of workouts in a week. Also evaluate the variance involved in it."
   ]
  },
  {
   "cell_type": "code",
   "execution_count": 8,
   "metadata": {},
   "outputs": [],
   "source": [
    "import numpy as np\n",
    "x =[0, 1, 2, 3, 4, 5]\n",
    "\n",
    "f= [0.09, 0.15, 0.40, 0.25, 0.10, 0.01]\n",
    "lst = []\n",
    "for i in range(6):\n",
    "    lst.append(x[i]*f[i])\n",
    "    \n",
    "m = np.sum(lst) \n",
    "\n",
    "def var():\n",
    "    v=0\n",
    "    for i in range(6):\n",
    "        s=(x[i]-mean)**2\n",
    "        v=v+s\n",
    "    return (v/5)"
   ]
  },
  {
   "cell_type": "code",
   "execution_count": 9,
   "metadata": {},
   "outputs": [
    {
     "name": "stdout",
     "output_type": "stream",
     "text": [
      "mean no. of workouts in a week : 2.15\n",
      "Variance will be : 26.206999999999994\n"
     ]
    }
   ],
   "source": [
    "print('mean no. of workouts in a week :',m)\n",
    "print('Variance will be :',var())"
   ]
  },
  {
   "cell_type": "markdown",
   "metadata": {},
   "source": [
    "# Problem Statement 4:\n",
    "    \n",
    "Let the continuous random variable D denote the diameter of the hole drilled in an\n",
    "\n",
    "aluminum sheet. The target diameter to be achieved is 12.5mm. Random\n",
    "\n",
    "disturbances in the process often result in inaccuracy.\n",
    "\n",
    "Historical data shows that the distribution of D can be\n",
    "\n",
    "modelled by the PDF (𝑑) =20𝑒−20(𝑑−12.5), 𝑑 ≥ 12.5. \n",
    "\n",
    "If a part with diameter > 12.6 mm needs to be scrapped,\n",
    "\n",
    "what is the proportion of those parts? \n",
    "\n",
    "What is the CDF when the diameter is of 11mm? \n",
    "\n",
    "What is your conclusion regarding the proportion of scraps?"
   ]
  },
  {
   "cell_type": "code",
   "execution_count": 1,
   "metadata": {},
   "outputs": [
    {
     "data": {
      "text/plain": [
       "(84.36, 54.36)"
      ]
     },
     "execution_count": 1,
     "metadata": {},
     "output_type": "execute_result"
    }
   ],
   "source": [
    "e=2.718\n",
    "f1=(20*e-20*(11-12.5))\n",
    "f2=(20*e-20*(12.5-12.5))\n",
    "f1,f2"
   ]
  },
  {
   "cell_type": "code",
   "execution_count": 2,
   "metadata": {},
   "outputs": [
    {
     "name": "stdout",
     "output_type": "stream",
     "text": [
      "P(Z<=84.36)=: 50.0 %\n",
      "When target diameter is 12.5mm then probablity is: 50.0 %\n"
     ]
    }
   ],
   "source": [
    "x=[]\n",
    "y=[]\n",
    "i=-5\n",
    "while i<5:\n",
    "    i+=0.01\n",
    "    x.append(round(i,3))\n",
    "e=2.718\n",
    "pi=3.14\n",
    "c=1/((2*pi)**0.5)\n",
    "for a in x:\n",
    "    expo=(-a**2)/2\n",
    "    distro=c*(e**expo)\n",
    "    y.append(distro)\n",
    "\n",
    "import scipy.integrate\n",
    "neg_infinity=-float('inf')\n",
    "pos_infinity=float('inf')\n",
    "\n",
    "z1=0\n",
    "z2=84.36\n",
    "z3=54.56\n",
    "z= 54.36\n",
    "def fun(x):\n",
    "    c=1/((2*pi)**0.5)\n",
    "    expo=(-x**2)/2\n",
    "    s=c*(e**expo)\n",
    "    return s\n",
    "prob1,error4=scipy.integrate.quad(fun,neg_infinity,z1)\n",
    "prob2,error4=scipy.integrate.quad(fun,neg_infinity,z2)\n",
    "prob3,error4=scipy.integrate.quad(fun,neg_infinity,z)\n",
    "prob11=(prob1-prob2)\n",
    "prob22=(prob1-prob3)\n",
    "print(\"P(Z<=84.36)=:\",round(prob11,2)*100,'%')\n",
    "print(\"When target diameter is 12.5mm then probablity is:\",round(prob22,2)*100,'%')"
   ]
  },
  {
   "cell_type": "markdown",
   "metadata": {},
   "source": [
    "The probablity of getting desire output is 50%."
   ]
  },
  {
   "cell_type": "markdown",
   "metadata": {},
   "source": [
    "# Problem Statement 5:\n",
    "    \n",
    "A company manufactures LED bulbs with a faulty rate of 30%. \n",
    "\n",
    "If I randomly select 6 chosen LEDs, what is the probability of having 2 faulty LEDs in my sample?\n",
    "\n",
    "Calculate the average value of this process.\n",
    "\n",
    "Also evaluate the standard deviation associated with it."
   ]
  },
  {
   "cell_type": "code",
   "execution_count": 10,
   "metadata": {},
   "outputs": [
    {
     "name": "stdout",
     "output_type": "stream",
     "text": [
      "The probablity is : 32.413 %\n"
     ]
    }
   ],
   "source": [
    "import numpy as np\n",
    "p=0.3\n",
    "n=2\n",
    "N=6\n",
    "def bino(p,n,N):\n",
    "    def fact(x):\n",
    "        m=1\n",
    "        for i in range(1,x+1):\n",
    "            m=m*i\n",
    "        return m\n",
    "    PDF=round(100*(fact(N)*(p**n)*(1-p)**(N-n)/(fact(n)*fact(N-n))),3)\n",
    "    print (\"The probablity is :\",PDF,'%')\n",
    "    \n",
    "bino(p,n,N)"
   ]
  },
  {
   "cell_type": "code",
   "execution_count": 11,
   "metadata": {},
   "outputs": [],
   "source": [
    "def Av_std():\n",
    "    p=0.3\n",
    "    N=6\n",
    "    def fct(x):\n",
    "        m=1\n",
    "        for i in range(1,x+1):\n",
    "            m=m*i\n",
    "        return m\n",
    "    \n",
    "    for i in range(1,N+1):\n",
    "        pdf = fct(N)*np.power(p,i)*np.power((1-p),(N-i))/(fct(i)*fct(N-i))\n",
    "        Avg = i*pdf\n",
    "        std =np.sqrt( np.power((i-Avg),2)/np.power((N-1),0.5))\n",
    "    print('Average of the process is',round(Avg,4),'and standard deviation is',round(std,4))"
   ]
  },
  {
   "cell_type": "code",
   "execution_count": 12,
   "metadata": {},
   "outputs": [
    {
     "name": "stdout",
     "output_type": "stream",
     "text": [
      "Average of the process is 0.0044 and standard deviation is 4.0095\n"
     ]
    }
   ],
   "source": [
    "Av_std()"
   ]
  },
  {
   "cell_type": "markdown",
   "metadata": {},
   "source": [
    "# Problem Statement 6:\n",
    "\n",
    "Gaurav and Barakha are both preparing for entrance exams. Gaurav attempts to\n",
    "\n",
    "solve 8 questions per day with a correction rate of 75%, while Barakha averages\n",
    "\n",
    "around 12 questions per day with a correction rate of 45%. What is the probability\n",
    "\n",
    "that each of them will solve 5 questions correctly? What happens in cases of 4 and 6\n",
    "\n",
    "correct solutions? What do you infer from it? What are the two main governing\n",
    "\n",
    "factors affecting their ability to solve questions correctly? Give a pictorial\n",
    "\n",
    "representation of the same to validate your answer"
   ]
  },
  {
   "cell_type": "code",
   "execution_count": 14,
   "metadata": {},
   "outputs": [
    {
     "name": "stdout",
     "output_type": "stream",
     "text": [
      "Gourav's success rate              :0.75\n",
      "No. of question Gourav has to solve:8\n",
      "Gourav's attempt question number   :6\n",
      "Barkha's success rate              :0.45\n",
      "No. of question Barkha has to solve:12\n",
      "Barkha's attempt question number   :5\n",
      "\n",
      "\n",
      "The probablity of solving 8 question by Gourav is :2.86%\n",
      "The probablity of solving 12 question by Barkha is :0.0%\n"
     ]
    }
   ],
   "source": [
    "def bino_prob():\n",
    "    pg = eval(input(\"Gourav's success rate              :\"))\n",
    "    ng = eval(input(\"No. of question Gourav has to solve:\"))\n",
    "    Ng = eval(input(\"Gourav's attempt question number   :\"))\n",
    "    pb = eval(input(\"Barkha's success rate              :\"))\n",
    "    nb = eval(input(\"No. of question Barkha has to solve:\"))\n",
    "    Nb = eval(input(\"Barkha's attempt question number   :\"))\n",
    "    def fct(x):\n",
    "        m=1\n",
    "        for i in range(1,x+1):\n",
    "            m=m*i\n",
    "        return m\n",
    "    Probg=round(100*((fct(Ng)*(pg**ng)*(1-pg)**(Ng-ng))/(fct(ng)*fct(Ng-ng))),3)\n",
    "    ProbB=round(100*((fct(Nb)*(pb**nb)*(1-pb)**(Nb-nb))/(fct(nb)*fct(Nb-nb))),3)\n",
    "    print(\"\\n\")\n",
    "    print (f\"The probablity of solving {ng} question by Gourav is :{Probg}%\")\n",
    "    print (f\"The probablity of solving {nb} question by Barkha is :{ProbB}%\")\n",
    "    \n",
    "    \n",
    "bino_prob()"
   ]
  },
  {
   "cell_type": "code",
   "execution_count": 15,
   "metadata": {},
   "outputs": [
    {
     "name": "stdout",
     "output_type": "stream",
     "text": [
      "Gourav's success rate              :0.75\n",
      "No. of question Gourav has to solve:8\n",
      "Gourav's attempt question number   :6\n",
      "Barkha's success rate              :0.45\n",
      "No. of question Barkha has to solve:8\n",
      "Barkha's attempt question number   :5\n",
      "\n",
      "\n",
      "The probablity of solving 8 question by Gourav is :2.86%\n",
      "The probablity of solving 8 question by Barkha is :0.003%\n"
     ]
    }
   ],
   "source": [
    "bino_prob()"
   ]
  },
  {
   "cell_type": "markdown",
   "metadata": {},
   "source": [
    "#### From it we can infer that  Barkha has more chance to be correct the questions than gourav as she attempt more questions than him."
   ]
  },
  {
   "cell_type": "markdown",
   "metadata": {},
   "source": [
    "#### The two main governing factors affecting their ability to solving questions would be total no. of questions attempt and the success rate."
   ]
  },
  {
   "cell_type": "code",
   "execution_count": 17,
   "metadata": {},
   "outputs": [],
   "source": [
    "import matplotlib.pyplot as plt\n",
    "import numpy as np\n",
    "import seaborn as sns"
   ]
  },
  {
   "cell_type": "code",
   "execution_count": 18,
   "metadata": {},
   "outputs": [
    {
     "data": {
      "image/png": "[encoded data removed]",
      "text/plain": [
       "<Figure size 432x288 with 1 Axes>"
      ]
     },
     "metadata": {
      "needs_background": "light"
     },
     "output_type": "display_data"
    }
   ],
   "source": [
    "l= []\n",
    "m=[20.764,22.25,8.652,21.238]\n",
    "for i in range(4):\n",
    "    l.append(m)\n",
    "plt.rcParams['font.size']=10\n",
    "sns.distplot(l,color='g')\n",
    "plt.show()"
   ]
  },
  {
   "cell_type": "markdown",
   "metadata": {},
   "source": [
    "# Problem Statement 7:\n",
    "\n",
    "Customers arrive at a rate of 72 per hour to my shop. What is the probability of 𝑘\n",
    "\n",
    "customers arriving in 4 minutes? a) 5 customers, b) not more than 3 customers, c)\n",
    "\n",
    "more than 3 customers. Give a pictorial representation of the same to validate your\n",
    "\n",
    "answer."
   ]
  },
  {
   "cell_type": "code",
   "execution_count": 19,
   "metadata": {},
   "outputs": [],
   "source": [
    "def p(n):    \n",
    "    M=(72/15)\n",
    "    e=2.718\n",
    "    def fct(x):\n",
    "        m=1\n",
    "        for i in range(1,x+1):\n",
    "            m=m*i\n",
    "        return m\n",
    "    return round((np.power(e,-M)*np.power(M,n)/fct(n)),3)*100"
   ]
  },
  {
   "cell_type": "code",
   "execution_count": 20,
   "metadata": {},
   "outputs": [
    {
     "name": "stdout",
     "output_type": "stream",
     "text": [
      "Probablity of arriving 5 customers will be              : 17.5 %\n",
      "Probablity of arriving not more than 3 customers will be: 29.5 %\n",
      "Probablity of arriving more than 3 customers will be    : 70.5 %\n"
     ]
    }
   ],
   "source": [
    "print(\"Probablity of arriving 5 customers will be              :\",p(5),'%')\n",
    "print(\"Probablity of arriving not more than 3 customers will be:\",p(0)+p(1)+p(2)+p(3),'%')\n",
    "print(\"Probablity of arriving more than 3 customers will be    :\",100-(p(0)+p(1)+p(2)+p(3)),'%')"
   ]
  },
  {
   "cell_type": "code",
   "execution_count": 21,
   "metadata": {},
   "outputs": [
    {
     "data": {
      "image/png": "[encoded data removed]",
      "text/plain": [
       "<Figure size 432x288 with 1 Axes>"
      ]
     },
     "metadata": {
      "needs_background": "light"
     },
     "output_type": "display_data"
    }
   ],
   "source": [
    "l= []\n",
    "for i in range(14):\n",
    "    l.append(p(i))\n",
    "    \n",
    "plt.rcParams['font.size']=16\n",
    "plt.bar(np.arange(14),l,color='g')\n",
    "plt.xlabel('No. of phone every 4 minutes')\n",
    "plt.ylabel('Probability density')\n",
    "plt.show()"
   ]
  },
  {
   "cell_type": "markdown",
   "metadata": {},
   "source": [
    "# Problem Statement 8:\n",
    "\n",
    "I work as a data analyst in Aeon Learning Pvt. Ltd. After analyzing data, I make reports, \n",
    "\n",
    "where I have the efficiency of entering 77 words per minute with 6 errors per hour. \n",
    "\n",
    "What is the probability that I will commit 2 errors in a 455-word financial report?\n",
    "\n",
    "What happens when the no. of words increases/decreases (in case of 1000 words,255 words)?\n",
    "\n",
    "How is the 𝜆 affected?\n",
    "\n",
    "How does it influence the PMF?\n",
    "\n",
    "Give a pictorial representation of the same to validate your answer."
   ]
  },
  {
   "cell_type": "code",
   "execution_count": 22,
   "metadata": {},
   "outputs": [],
   "source": [
    "def p(er):\n",
    "    n1=int(input(\"Enter the no. of words: \"))\n",
    "    n2=int(input(\"Enter the no. of words increases: \"))\n",
    "    n3=int(input(\"Enter the no. of words decreases: \"))\n",
    "    Total=77\n",
    "    error_rate=(6/60)\n",
    "    M1=(error_rate)*(1/Total)*n1\n",
    "    M2=(error_rate)*(1/Total)*n2\n",
    "    M3=(error_rate)*(1/Total)*n3\n",
    "    e=2.718\n",
    "    def fct(x):\n",
    "        m=1\n",
    "        for i in range(1,x+1):\n",
    "            m=m*i\n",
    "        return m\n",
    "    p1=round(((((e)**(-M1))*(M1)**er)/fct(er)),4)*100\n",
    "    p2=round(((((e)**(-M2))*(M2)**er)/fct(er)),4)*100\n",
    "    p3=round(((((e)**(-M3))*(M3)**er)/fct(er)),4)*100\n",
    "    print(f\"\\nprobablity of getting {er} errors when there are {n1} words will be :{p1}%\")\n",
    "    print(f\"\\nprobablity of getting {er} errors when there are {n2} words will be :{p2}%\")\n",
    "    print(f\"\\nprobablity of getting {er} errors when there are {n3} words will be :{p3}%\")    "
   ]
  },
  {
   "cell_type": "code",
   "execution_count": 24,
   "metadata": {},
   "outputs": [
    {
     "name": "stdout",
     "output_type": "stream",
     "text": [
      "Enter the no. of words: 455\n",
      "Enter the no. of words increases: 1000\n",
      "Enter the no. of words decreases: 255\n",
      "\n",
      "probablity of getting 2 errors when there are 455 words will be :9.67%\n",
      "\n",
      "probablity of getting 2 errors when there are 1000 words will be :23.02%\n",
      "\n",
      "probablity of getting 2 errors when there are 255 words will be :3.94%\n"
     ]
    }
   ],
   "source": [
    "p(2)"
   ]
  },
  {
   "cell_type": "markdown",
   "metadata": {},
   "source": [
    "#### Here, lambda  is a measure of the percent variance in dependent variables not explained by differences in levels of the independent variable.From lambda value we get 'M1','M2' and 'M3' from which , we are getting the probablity."
   ]
  },
  {
   "cell_type": "markdown",
   "metadata": {},
   "source": [
    "###### From lambda we get 'M1' , 'M2' and 'M3' which helps to calculate the PMF  by Poisson method directly."
   ]
  },
  {
   "cell_type": "code",
   "execution_count": null,
   "metadata": {},
   "outputs": [],
   "source": [
    "l= []\n",
    "m=[9.67,23.02,3.94]\n",
    "for i in range(3):\n",
    "    l.append(m)\n",
    "plt.rcParams['font.size']=10\n",
    "sns.distplot(l,color='g')\n",
    "plt.show()"
   ]
  },
  {
   "cell_type": "markdown",
   "metadata": {},
   "source": [
    "# Problem Statement 9:\n",
    "Let the continuous random variable D denote the diameter of the hole drilled in an\n",
    "aluminum sheet. The target diameter to be achieved is 12.5mm. Random\n",
    "disturbances in the process often result in inaccuracy.\n",
    "Historical data shows that the distribution of D can be modelled by the PDF, f(d) =\n",
    "20e−20(d−12.5), d ≥ 12.5. If a part with diameter > 12.6 mm needs to be scrapped,\n",
    "what is the proportion of those parts? What is the CDF when the diameter is of 11\n",
    "mm?\n",
    "What is the conclusion of this experiment?"
   ]
  },
  {
   "cell_type": "markdown",
   "metadata": {},
   "source": [
    "###### If a part with diameter > 12.6 mm needs to be scrapped,then those parts were inversely proportioned."
   ]
  },
  {
   "cell_type": "code",
   "execution_count": 31,
   "metadata": {},
   "outputs": [
    {
     "data": {
      "text/plain": [
       "(84.36, 54.36)"
      ]
     },
     "execution_count": 31,
     "metadata": {},
     "output_type": "execute_result"
    }
   ],
   "source": [
    "e=2.718\n",
    "f1=(20*e-20*(11-12.5))\n",
    "f2=(20*e-20*(12.5-12.5))\n",
    "f1,f2"
   ]
  },
  {
   "cell_type": "code",
   "execution_count": 35,
   "metadata": {},
   "outputs": [
    {
     "name": "stdout",
     "output_type": "stream",
     "text": [
      "P(Z<=84.36)=: 50.0 %\n",
      "When target diameter is 12.5mm then probablity is: 50.0 %\n"
     ]
    }
   ],
   "source": [
    "\n",
    "x=[]\n",
    "y=[]\n",
    "i=-5\n",
    "while i<5:\n",
    "    i+=0.01\n",
    "    x.append(round(i,3))\n",
    "e=2.718\n",
    "pi=3.14\n",
    "c=1/((2*pi)**0.5)\n",
    "for a in x:\n",
    "    expo=(-a**2)/2\n",
    "    distro=c*(e**expo)\n",
    "    y.append(distro)\n",
    "\n",
    "import scipy.integrate\n",
    "neg_infinity=-float('inf')\n",
    "pos_infinity=float('inf')\n",
    "\n",
    "z1=0\n",
    "z2=84.36\n",
    "z3=54.56\n",
    "def fun(x):\n",
    "    c=1/((2*pi)**0.5)\n",
    "    expo=(-x**2)/2\n",
    "    s=c*(e**expo)\n",
    "    return s\n",
    "prob1,error4=scipy.integrate.quad(fun,neg_infinity,z1)\n",
    "prob2,error4=scipy.integrate.quad(fun,neg_infinity,z2)\n",
    "prob3,error4=scipy.integrate.quad(fun,neg_infinity,z3)\n",
    "prob11=(prob1-prob2)\n",
    "prob22=(prob1-prob3)\n",
    "print(\"P(Z<=84.36)=:\",round(prob11,2)*100,'%')\n",
    "print(\"When target diameter is 12.5mm then probablity is:\",round(prob22,2)*100,'%')"
   ]
  },
  {
   "cell_type": "markdown",
   "metadata": {},
   "source": [
    "The probablity of getting desire output is 50%."
   ]
  },
  {
   "cell_type": "markdown",
   "metadata": {},
   "source": [
    "# Problem Statement 10:\n",
    "\n",
    "Please compute the following:\n",
    "\n",
    "a) P(Z > 1.26), . P(Z < −0.86), P(Z > −1.37), P(−1.25 < Z < 0.37), . P(Z ≤ −4.6)\n",
    "\n",
    "b) Find the value 𝑧 such that 𝑃(𝑍 > 𝑧) = 0.05\n",
    "\n",
    "c) Find the value of 𝑧 such that 𝑃(−𝑧 < 𝑍 < 𝑧) = 0.99"
   ]
  },
  {
   "cell_type": "code",
   "execution_count": null,
   "metadata": {},
   "outputs": [],
   "source": [
    "import matplotlib.pyplot as plt"
   ]
  },
  {
   "cell_type": "code",
   "execution_count": null,
   "metadata": {},
   "outputs": [],
   "source": [
    "x=[]\n",
    "y=[]\n",
    "i=-5\n",
    "while i<5:\n",
    "    i+=0.01\n",
    "    x.append(round(i,3))\n",
    "e=2.718\n",
    "pi=3.14\n",
    "c=1/((2*pi)**0.5)\n",
    "for a in x:\n",
    "    expo=(-a**2)/2\n",
    "    distro=c*(e**expo)\n",
    "    y.append(distro)\n",
    "\n",
    "import scipy.integrate\n",
    "neg_infinity=-float('inf')\n",
    "pos_infinity=float('inf')\n",
    "z1=1.26\n",
    "z2=0.86\n",
    "z3=1.37\n",
    "z41=-1.25\n",
    "z42=0.37\n",
    "z5=4.6\n",
    "def fun(x):\n",
    "    c=1/((2*pi)**0.5)\n",
    "    expo=(-x**2)/2\n",
    "    s=c*(e**expo)\n",
    "    return s\n",
    "prob1,error1=scipy.integrate.quad(fun,neg_infinity,z1)\n",
    "prob2,error2=scipy.integrate.quad(fun,pos_infinity,z2)\n",
    "prob3,error3=scipy.integrate.quad(fun,pos_infinity,z3)\n",
    "prob41,error4=scipy.integrate.quad(fun,neg_infinity,z41)\n",
    "prob42,error4=scipy.integrate.quad(fun,neg_infinity,z42)\n",
    "prob5,error5=scipy.integrate.quad(fun,neg_infinity,z5)\n",
    "prob3=(1-prob3)\n",
    "prob4=(prob42-prob41)\n",
    "prob5=(1-prob5)\n",
    "print(\"P(Z>1.26)=\",round(prob1,5))\n",
    "print(\"P(Z<−0.86)=\",round(prob2,5))\n",
    "print(\"P(Z>−1.37)=:\",round(prob3,5))\n",
    "print(\"P(-1.25<Z<0.37)=:\",round(prob4,5))\n",
    "print(\"P(Z<=−4.6)=\",round(prob5,5))"
   ]
  },
  {
   "cell_type": "code",
   "execution_count": null,
   "metadata": {},
   "outputs": [],
   "source": [
    "plt.plot(x,y)\n",
    "plt.show()"
   ]
  },
  {
   "cell_type": "markdown",
   "metadata": {},
   "source": [
    "# Problem Statement 11:\n",
    "\n",
    "The current flow in a copper wire follow a normal distribution with a mean of 10 𝑚A\n",
    "\n",
    "and a variance of 4 (𝑚𝐴)2.\n",
    "\n",
    "What is the probability that a current measurement will exceed 13 𝑚𝐴? What is the\n",
    "\n",
    "probability that a current measurement is between 9 and 11mA? Determine the\n",
    "\n",
    "current measurement which has a probability of 0.98.\n"
   ]
  },
  {
   "cell_type": "code",
   "execution_count": null,
   "metadata": {},
   "outputs": [],
   "source": [
    "x=[]\n",
    "y=[]\n",
    "i=-5\n",
    "while i<5:\n",
    "    i+=0.01\n",
    "    x.append(round(i,3))\n",
    "e=2.718\n",
    "pi=3.14\n",
    "c=1/((2*pi)**0.5)\n",
    "for a in x:\n",
    "    expo=(-a**2)/2\n",
    "    distro=c*(e**expo)\n",
    "    y.append(distro)\n",
    "\n",
    "import scipy.integrate\n",
    "var=4\n",
    "mu=10\n",
    "std=np.sqrt(var)\n",
    "x1=13\n",
    "x21=9\n",
    "x22=11\n",
    "alpha1=(x1-mu)/std\n",
    "alpha21=(x21-mu)/std\n",
    "alpha22=(x22-mu)/std\n",
    "neg_infinity=-float('inf')\n",
    "pos_infinity=float('inf')\n",
    "z1=alpha1\n",
    "z21=alpha21\n",
    "z22=alpha22\n",
    "def fun(x):\n",
    "    c=1/((2*pi)**0.5)\n",
    "    expo=(-x**2)/2\n",
    "    s=c*(e**expo)\n",
    "    return s\n",
    "prob1,error1=scipy.integrate.quad(fun,neg_infinity,z1)\n",
    "prob21,error1=scipy.integrate.quad(fun,neg_infinity,z21)\n",
    "prob22,error1=scipy.integrate.quad(fun,pos_infinity,z22)\n",
    "prob1=(1-prob1)\n",
    "prob2=(1-(prob21-prob22))\n",
    "print(\"when the current measurement exceed to 13 mA P(Z>13) will be:\",round(prob1,5))\n",
    "print(\"when the current measurement is in between 9mA and 11mA P(9<Z<11) will be:\",round(prob2,5))"
   ]
  },
  {
   "cell_type": "markdown",
   "metadata": {},
   "source": [
    "P(X < x) = P((X − 10)/2)<((x − 10)/2) = P(Z < (x − 10)/3) = 0.98\n",
    "\n",
    "(Z<(x-10)/2)=0.98\n",
    "\n",
    "So,from z table we can find for 0.98 the value of Z is 2.06..\n",
    "\n",
    "((x-10)/2)=2.06"
   ]
  },
  {
   "cell_type": "code",
   "execution_count": 42,
   "metadata": {},
   "outputs": [
    {
     "name": "stdout",
     "output_type": "stream",
     "text": [
      "14.12\n"
     ]
    }
   ],
   "source": [
    "x = round(((2.06*2)+10),2)\n",
    "print(x)"
   ]
  },
  {
   "cell_type": "markdown",
   "metadata": {},
   "source": [
    "# Problem Statement 12: \n",
    "The shaft in a piston has its diameter normally distributed with a mean of 0.2508 inch and a standard deviation of 0.0005 inch. The specifications of the shaft are 0.2500 ∓ 0.0015 inch. What proportion of shafts are in sync with the specifications? If the process is centered so that the mean is equal to the target value of 0.2500, what proportion of shafts conform to the new specifications? What is your conclusion from this experiment? \n"
   ]
  },
  {
   "cell_type": "code",
   "execution_count": 52,
   "metadata": {},
   "outputs": [
    {
     "name": "stdout",
     "output_type": "stream",
     "text": [
      "P(Xmin1<Z<Xmax1)=: 92.0\n",
      "P(Xmin2<Z<Xmax2)=: 99.76\n"
     ]
    }
   ],
   "source": [
    "x=[]\n",
    "y=[]\n",
    "i=-5\n",
    "while i<5:\n",
    "    i+=0.01\n",
    "    x.append(round(i,3))\n",
    "e=2.718\n",
    "pi=3.14\n",
    "c=1/((2*pi)**0.5)\n",
    "for a in x:\n",
    "    expo=(-a**2)/2\n",
    "    distro=c*(e**expo)\n",
    "    y.append(distro)\n",
    "\n",
    "import scipy.integrate\n",
    "neg_infinity=-float('inf')\n",
    "pos_infinity=float('inf')\n",
    "mean1=0.2508\n",
    "mean2=0.2500\n",
    "sd=0.0005\n",
    "Xmin=(0.2500-0.0015)\n",
    "Xmax=(0.2500+0.0015)\n",
    "\n",
    "Xmax1=(Xmax-mean1)/sd\n",
    "Xmin1=(Xmin-mean2)/sd\n",
    "Xmax2=(Xmax-mean2)/sd\n",
    "Xmin2=(Xmin-mean2)/sd\n",
    "\n",
    "x11=Xmin1\n",
    "x12=Xmax1\n",
    "x21=Xmin2\n",
    "x22=Xmax2\n",
    "def fun(x):\n",
    "    c=1/((2*pi)**0.5)\n",
    "    expo=(-x**2)/2\n",
    "    s=c*(e**expo)\n",
    "    return s\n",
    "prob11,error4=scipy.integrate.quad(fun,neg_infinity,x11)\n",
    "prob12,error4=scipy.integrate.quad(fun,neg_infinity,x12)\n",
    "prob21,error4=scipy.integrate.quad(fun,neg_infinity,x21)\n",
    "prob22,error4=scipy.integrate.quad(fun,neg_infinity,x22)\n",
    "\n",
    "prob1=(prob12-prob11)\n",
    "prob2=(prob22-prob21)\n",
    "\n",
    "print(\"P(Xmin1<Z<Xmax1)=:\",100*(round(prob1,2)))\n",
    "print(\"P(Xmin2<Z<Xmax2)=:\",100*(round(prob2,4)))"
   ]
  },
  {
   "cell_type": "markdown",
   "metadata": {},
   "source": [
    "###### Here propotion is 92.0:99.76 is   2:2.16"
   ]
  },
  {
   "cell_type": "markdown",
   "metadata": {},
   "source": [
    "So, It increased from 92% to 99.76%"
   ]
  },
  {
   "cell_type": "code",
   "execution_count": null,
   "metadata": {},
   "outputs": [],
   "source": []
  },
  {
   "cell_type": "code",
   "execution_count": null,
   "metadata": {},
   "outputs": [],
   "source": []
  }
 ],
 "metadata": {
  "kernelspec": {
   "display_name": "Python 3",
   "language": "python",
   "name": "python3"
  },
  "language_info": {
   "codemirror_mode": {
    "name": "ipython",
    "version": 3
   },
   "file_extension": ".py",
   "mimetype": "text/x-python",
   "name": "python",
   "nbconvert_exporter": "python",
   "pygments_lexer": "ipython3",
   "version": "3.7.6"
  }
 },
 "nbformat": 4,
 "nbformat_minor": 4
}
